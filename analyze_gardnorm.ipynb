{
 "cells": [
  {
   "cell_type": "code",
   "execution_count": 1,
   "metadata": {},
   "outputs": [],
   "source": [
    "import pandas as pd\n",
    "import numpy as np"
   ]
  },
  {
   "cell_type": "code",
   "execution_count": 2,
   "metadata": {},
   "outputs": [],
   "source": [
    "import matplotlib.pyplot as plt\n",
    "%matplotlib inline"
   ]
  },
  {
   "cell_type": "code",
   "execution_count": 3,
   "metadata": {},
   "outputs": [
    {
     "data": {
      "text/html": [
       "<div>\n",
       "<style scoped>\n",
       "    .dataframe tbody tr th:only-of-type {\n",
       "        vertical-align: middle;\n",
       "    }\n",
       "\n",
       "    .dataframe tbody tr th {\n",
       "        vertical-align: top;\n",
       "    }\n",
       "\n",
       "    .dataframe thead th {\n",
       "        text-align: right;\n",
       "    }\n",
       "</style>\n",
       "<table border=\"1\" class=\"dataframe\">\n",
       "  <thead>\n",
       "    <tr style=\"text-align: right;\">\n",
       "      <th></th>\n",
       "      <th>0</th>\n",
       "      <th>1</th>\n",
       "      <th>2</th>\n",
       "      <th>pseudo_label</th>\n",
       "      <th>actual_label</th>\n",
       "    </tr>\n",
       "  </thead>\n",
       "  <tbody>\n",
       "    <tr>\n",
       "      <th>0</th>\n",
       "      <td>1.031582</td>\n",
       "      <td>4.152217</td>\n",
       "      <td>8.293872</td>\n",
       "      <td>0.0</td>\n",
       "      <td>0.0</td>\n",
       "    </tr>\n",
       "    <tr>\n",
       "      <th>1</th>\n",
       "      <td>0.984182</td>\n",
       "      <td>0.488756</td>\n",
       "      <td>1.282491</td>\n",
       "      <td>16.0</td>\n",
       "      <td>0.0</td>\n",
       "    </tr>\n",
       "    <tr>\n",
       "      <th>2</th>\n",
       "      <td>0.983280</td>\n",
       "      <td>0.580575</td>\n",
       "      <td>1.062873</td>\n",
       "      <td>0.0</td>\n",
       "      <td>0.0</td>\n",
       "    </tr>\n",
       "    <tr>\n",
       "      <th>3</th>\n",
       "      <td>0.990375</td>\n",
       "      <td>0.143483</td>\n",
       "      <td>1.408598</td>\n",
       "      <td>58.0</td>\n",
       "      <td>0.0</td>\n",
       "    </tr>\n",
       "    <tr>\n",
       "      <th>4</th>\n",
       "      <td>0.984329</td>\n",
       "      <td>0.526575</td>\n",
       "      <td>1.114001</td>\n",
       "      <td>0.0</td>\n",
       "      <td>0.0</td>\n",
       "    </tr>\n",
       "  </tbody>\n",
       "</table>\n",
       "</div>"
      ],
      "text/plain": [
       "          0         1         2  pseudo_label  actual_label\n",
       "0  1.031582  4.152217  8.293872           0.0           0.0\n",
       "1  0.984182  0.488756  1.282491          16.0           0.0\n",
       "2  0.983280  0.580575  1.062873           0.0           0.0\n",
       "3  0.990375  0.143483  1.408598          58.0           0.0\n",
       "4  0.984329  0.526575  1.114001           0.0           0.0"
      ]
     },
     "execution_count": 3,
     "metadata": {},
     "output_type": "execute_result"
    }
   ],
   "source": [
    "data = pd.read_csv(\"grad_norm_final_A2R.csv\")\n",
    "data.head()"
   ]
  },
  {
   "cell_type": "code",
   "execution_count": 5,
   "metadata": {},
   "outputs": [
    {
     "data": {
      "text/plain": [
       "(array([0.03250112, 0.03250112, 0.        , 0.06500223, 0.16250558,\n",
       "        0.42251452, 0.45501564, 0.94253239, 0.97503351, 1.65755696,\n",
       "        2.63259047, 3.15260834, 3.18510945, 4.38765078, 3.18510945,\n",
       "        2.79509605, 1.43004914, 0.97503351, 0.42251452, 0.13000447]),\n",
       " array([0.76552373, 0.80250471, 0.83948569, 0.87646666, 0.91344764,\n",
       "        0.95042862, 0.9874096 , 1.02439058, 1.06137155, 1.09835253,\n",
       "        1.13533351, 1.17231449, 1.20929546, 1.24627644, 1.28325742,\n",
       "        1.3202384 , 1.35721937, 1.39420035, 1.43118133, 1.46816231,\n",
       "        1.50514328]),\n",
       " <BarContainer object of 20 artists>)"
      ]
     },
     "execution_count": 5,
     "metadata": {},
     "output_type": "execute_result"
    },
    {
     "data": {
      "image/png": "[encoded data removed]",
      "text/plain": [
       "<Figure size 432x288 with 1 Axes>"
      ]
     },
     "metadata": {
      "needs_background": "light"
     },
     "output_type": "display_data"
    }
   ],
   "source": [
    "accepted = data[data[\"pseudo_label\"]==data[\"actual_label\"]]['2']\n",
    "rejected = data[data[\"pseudo_label\"]!=data[\"actual_label\"]]['2']\n",
    "n_bins = 20\n",
    "plt.hist(accepted, bins=n_bins,density=True,color = \"green\")\n",
    "plt.hist(rejected,bins=n_bins,density=True,color = \"red\")"
   ]
  },
  {
   "cell_type": "code",
   "execution_count": 6,
   "metadata": {},
   "outputs": [
    {
     "data": {
      "text/plain": [
       "<AxesSubplot:>"
      ]
     },
     "execution_count": 6,
     "metadata": {},
     "output_type": "execute_result"
    },
    {
     "data": {
      "image/png": "[encoded data removed]",
      "text/plain": [
       "<Figure size 432x288 with 1 Axes>"
      ]
     },
     "metadata": {
      "needs_background": "light"
     },
     "output_type": "display_data"
    }
   ],
   "source": [
    "accepted.plot()\n",
    "rejected.plot()"
   ]
  },
  {
   "cell_type": "code",
   "execution_count": 7,
   "metadata": {},
   "outputs": [
    {
     "data": {
      "text/plain": [
       "[<matplotlib.lines.Line2D at 0x7fbe6aef5fd0>]"
      ]
     },
     "execution_count": 7,
     "metadata": {},
     "output_type": "execute_result"
    },
    {
     "data": {
      "image/png": "[encoded data removed]",
      "text/plain": [
       "<Figure size 432x288 with 1 Axes>"
      ]
     },
     "metadata": {
      "needs_background": "light"
     },
     "output_type": "display_data"
    }
   ],
   "source": [
    "plt.plot(accepted,'bo')\n",
    "plt.plot(rejected,'go')"
   ]
  },
  {
   "cell_type": "code",
   "execution_count": 9,
   "metadata": {},
   "outputs": [
    {
     "data": {
      "text/plain": [
       "(array([ 17.15433694,  30.02008965,  19.29862906,  47.17442659,\n",
       "         49.31871871,  64.32876354,  87.91597683, 102.92602166,\n",
       "        122.22465072, 122.22465072, 139.37898766, 165.11049308,\n",
       "        160.82190884, 192.98629061, 167.2547852 , 105.07031378,\n",
       "         96.49314531,  53.60730295,  27.87579753,  12.86575271]),\n",
       " array([0.98013109, 0.98069161, 0.98125213, 0.98181266, 0.98237318,\n",
       "        0.9829337 , 0.98349422, 0.98405474, 0.98461527, 0.98517579,\n",
       "        0.98573631, 0.98629683, 0.98685735, 0.98741788, 0.9879784 ,\n",
       "        0.98853892, 0.98909944, 0.98965997, 0.99022049, 0.99078101,\n",
       "        0.99134153]),\n",
       " <BarContainer object of 20 artists>)"
      ]
     },
     "execution_count": 9,
     "metadata": {},
     "output_type": "execute_result"
    },
    {
     "data": {
      "image/png": "[encoded data removed]",
      "text/plain": [
       "<Figure size 432x288 with 1 Axes>"
      ]
     },
     "metadata": {
      "needs_background": "light"
     },
     "output_type": "display_data"
    }
   ],
   "source": [
    "accepted_0 = data[data[\"pseudo_label\"]==data[\"actual_label\"]]['0']\n",
    "rejected_0 = data[data[\"pseudo_label\"]!=data[\"actual_label\"]]['0']\n",
    "# plt.plot(accepted_0,'bo')\n",
    "# plt.plot(rejected_0,'go')\n",
    "n_bins = 20\n",
    "plt.hist(accepted_0, bins=n_bins,density=True,color = \"green\")\n",
    "plt.hist(rejected_0,bins=n_bins,density=True,color = \"red\")"
   ]
  },
  {
   "cell_type": "code",
   "execution_count": 10,
   "metadata": {},
   "outputs": [
    {
     "data": {
      "text/plain": [
       "(array([0.3421697 , 0.        , 0.        , 0.        , 0.        ,\n",
       "        0.        , 0.3421697 , 0.        , 0.        , 0.        ,\n",
       "        0.68433939, 0.        , 0.3421697 , 0.3421697 , 0.3421697 ,\n",
       "        0.        , 0.3421697 , 0.        , 0.3421697 , 0.        ,\n",
       "        0.        , 0.        , 0.68433939, 0.3421697 , 1.36867878,\n",
       "        0.3421697 , 0.68433939, 0.3421697 , 1.02650909, 0.68433939,\n",
       "        0.3421697 , 0.3421697 , 0.68433939, 0.68433939, 1.02650909,\n",
       "        0.        , 1.36867878, 0.68433939, 1.36867878, 1.02650909,\n",
       "        1.36867878, 1.36867878, 2.39518787, 1.02650909, 1.02650909,\n",
       "        0.3421697 , 0.68433939, 1.36867878, 0.68433939, 0.3421697 ,\n",
       "        2.05301817, 1.71084848, 3.07952726, 1.02650909, 3.42169696,\n",
       "        1.36867878, 1.02650909, 1.02650909, 1.71084848, 1.36867878,\n",
       "        2.73735757, 2.39518787, 1.71084848, 1.02650909, 2.73735757,\n",
       "        0.68433939, 2.73735757, 1.36867878, 2.73735757, 4.44820604,\n",
       "        3.07952726, 4.10603635, 2.05301817, 2.05301817, 2.05301817,\n",
       "        2.39518787, 3.07952726, 2.05301817, 2.39518787, 4.10603635,\n",
       "        1.71084848, 2.05301817, 4.44820604, 3.76386665, 2.73735757,\n",
       "        1.71084848, 3.07952726, 4.44820604, 2.05301817, 1.71084848,\n",
       "        2.73735757, 2.73735757, 2.73735757, 5.13254544, 2.39518787,\n",
       "        2.73735757, 4.79037574, 1.71084848, 2.73735757, 2.05301817,\n",
       "        2.73735757, 2.39518787, 3.76386665, 3.76386665, 1.71084848,\n",
       "        2.73735757, 1.02650909, 1.36867878, 2.05301817, 3.42169696,\n",
       "        0.68433939, 2.73735757, 2.39518787, 3.42169696, 2.73735757,\n",
       "        1.71084848, 2.39518787, 1.36867878, 2.39518787, 1.71084848,\n",
       "        1.02650909, 2.39518787, 2.05301817, 1.71084848, 1.71084848,\n",
       "        2.39518787, 3.76386665, 3.07952726, 3.07952726, 2.39518787,\n",
       "        2.05301817, 1.02650909, 2.73735757, 2.05301817, 1.02650909,\n",
       "        2.39518787, 3.42169696, 1.71084848, 0.68433939, 2.05301817,\n",
       "        1.02650909, 1.71084848, 2.73735757, 2.05301817, 2.39518787,\n",
       "        2.39518787, 0.68433939, 1.71084848, 2.73735757, 1.71084848,\n",
       "        1.36867878, 0.68433939, 0.3421697 , 1.71084848, 1.02650909,\n",
       "        0.68433939, 0.3421697 , 1.36867878, 1.36867878, 0.3421697 ,\n",
       "        2.39518787, 0.        , 3.07952726, 0.3421697 , 0.3421697 ,\n",
       "        0.68433939, 0.3421697 , 0.3421697 , 0.3421697 , 0.3421697 ,\n",
       "        0.        , 1.02650909, 0.3421697 , 0.3421697 , 0.        ,\n",
       "        0.        , 0.68433939, 1.02650909, 0.3421697 , 0.3421697 ,\n",
       "        0.68433939, 0.        , 0.3421697 , 0.        , 0.        ,\n",
       "        0.        , 0.        , 0.        , 0.        , 0.68433939,\n",
       "        0.        , 0.3421697 , 0.3421697 , 0.        , 0.        ,\n",
       "        0.        , 0.        , 0.        , 0.        , 0.3421697 ]),\n",
       " array([0.07947878, 0.08299143, 0.08650408, 0.09001673, 0.09352939,\n",
       "        0.09704204, 0.10055469, 0.10406734, 0.10757999, 0.11109265,\n",
       "        0.1146053 , 0.11811795, 0.1216306 , 0.12514325, 0.12865591,\n",
       "        0.13216856, 0.13568121, 0.13919386, 0.14270651, 0.14621917,\n",
       "        0.14973182, 0.15324447, 0.15675712, 0.16026977, 0.16378243,\n",
       "        0.16729508, 0.17080773, 0.17432038, 0.17783303, 0.18134569,\n",
       "        0.18485834, 0.18837099, 0.19188364, 0.1953963 , 0.19890895,\n",
       "        0.2024216 , 0.20593425, 0.2094469 , 0.21295956, 0.21647221,\n",
       "        0.21998486, 0.22349751, 0.22701016, 0.23052282, 0.23403547,\n",
       "        0.23754812, 0.24106077, 0.24457342, 0.24808608, 0.25159873,\n",
       "        0.25511138, 0.25862403, 0.26213668, 0.26564934, 0.26916199,\n",
       "        0.27267464, 0.27618729, 0.27969994, 0.2832126 , 0.28672525,\n",
       "        0.2902379 , 0.29375055, 0.2972632 , 0.30077586, 0.30428851,\n",
       "        0.30780116, 0.31131381, 0.31482646, 0.31833912, 0.32185177,\n",
       "        0.32536442, 0.32887707, 0.33238972, 0.33590238, 0.33941503,\n",
       "        0.34292768, 0.34644033, 0.34995298, 0.35346564, 0.35697829,\n",
       "        0.36049094, 0.36400359, 0.36751624, 0.3710289 , 0.37454155,\n",
       "        0.3780542 , 0.38156685, 0.3850795 , 0.38859216, 0.39210481,\n",
       "        0.39561746, 0.39913011, 0.40264276, 0.40615542, 0.40966807,\n",
       "        0.41318072, 0.41669337, 0.42020603, 0.42371868, 0.42723133,\n",
       "        0.43074398, 0.43425663, 0.43776929, 0.44128194, 0.44479459,\n",
       "        0.44830724, 0.45181989, 0.45533255, 0.4588452 , 0.46235785,\n",
       "        0.4658705 , 0.46938315, 0.47289581, 0.47640846, 0.47992111,\n",
       "        0.48343376, 0.48694641, 0.49045907, 0.49397172, 0.49748437,\n",
       "        0.50099702, 0.50450967, 0.50802233, 0.51153498, 0.51504763,\n",
       "        0.51856028, 0.52207293, 0.52558559, 0.52909824, 0.53261089,\n",
       "        0.53612354, 0.53963619, 0.54314885, 0.5466615 , 0.55017415,\n",
       "        0.5536868 , 0.55719945, 0.56071211, 0.56422476, 0.56773741,\n",
       "        0.57125006, 0.57476271, 0.57827537, 0.58178802, 0.58530067,\n",
       "        0.58881332, 0.59232597, 0.59583863, 0.59935128, 0.60286393,\n",
       "        0.60637658, 0.60988923, 0.61340189, 0.61691454, 0.62042719,\n",
       "        0.62393984, 0.62745249, 0.63096515, 0.6344778 , 0.63799045,\n",
       "        0.6415031 , 0.64501576, 0.64852841, 0.65204106, 0.65555371,\n",
       "        0.65906636, 0.66257902, 0.66609167, 0.66960432, 0.67311697,\n",
       "        0.67662962, 0.68014228, 0.68365493, 0.68716758, 0.69068023,\n",
       "        0.69419288, 0.69770554, 0.70121819, 0.70473084, 0.70824349,\n",
       "        0.71175614, 0.7152688 , 0.71878145, 0.7222941 , 0.72580675,\n",
       "        0.7293194 , 0.73283206, 0.73634471, 0.73985736, 0.74337001,\n",
       "        0.74688266, 0.75039532, 0.75390797, 0.75742062, 0.76093327,\n",
       "        0.76444592, 0.76795858, 0.77147123, 0.77498388, 0.77849653,\n",
       "        0.78200918]),\n",
       " <BarContainer object of 200 artists>)"
      ]
     },
     "execution_count": 10,
     "metadata": {},
     "output_type": "execute_result"
    },
    {
     "data": {
      "image/png": "[encoded data removed]",
      "text/plain": [
       "<Figure size 432x288 with 1 Axes>"
      ]
     },
     "metadata": {
      "needs_background": "light"
     },
     "output_type": "display_data"
    }
   ],
   "source": [
    "accepted_1 = data[data[\"pseudo_label\"]==data[\"actual_label\"]]['1']\n",
    "rejected_1 = data[data[\"pseudo_label\"]!=data[\"actual_label\"]]['1']\n",
    "n_bins = 200\n",
    "plt.hist(accepted_1, bins=n_bins,density=True,color = \"green\")\n",
    "plt.hist(rejected_1,bins=n_bins,density=True,color = \"red\")"
   ]
  },
  {
   "cell_type": "code",
   "execution_count": 11,
   "metadata": {},
   "outputs": [
    {
     "data": {
      "text/plain": [
       "(array([0.40919115, 0.        , 0.        , 0.        , 0.        ,\n",
       "        0.        , 0.40919115, 0.        , 0.        , 0.        ,\n",
       "        0.        , 0.40919115, 0.        , 0.        , 0.40919115,\n",
       "        0.        , 0.        , 0.40919115, 0.        , 0.        ,\n",
       "        0.        , 0.        , 1.22757345, 0.        , 0.        ,\n",
       "        0.        , 0.        , 0.        , 0.        , 0.40919115,\n",
       "        0.        , 0.40919115, 0.        , 0.        , 1.22757345,\n",
       "        0.        , 0.40919115, 0.8183823 , 0.        , 0.        ,\n",
       "        0.8183823 , 0.8183823 , 0.8183823 , 0.8183823 , 0.        ,\n",
       "        0.        , 0.40919115, 0.40919115, 0.        , 0.40919115,\n",
       "        0.40919115, 0.8183823 , 2.04595574, 0.        , 0.40919115,\n",
       "        0.40919115, 0.40919115, 1.22757345, 0.        , 0.8183823 ,\n",
       "        1.63676459, 0.8183823 , 0.8183823 , 0.40919115, 0.40919115,\n",
       "        1.22757345, 0.8183823 , 2.04595574, 0.8183823 , 0.        ,\n",
       "        1.22757345, 0.8183823 , 2.04595574, 1.22757345, 1.22757345,\n",
       "        0.8183823 , 1.22757345, 1.22757345, 1.63676459, 1.22757345,\n",
       "        0.40919115, 1.63676459, 0.8183823 , 1.63676459, 1.63676459,\n",
       "        0.8183823 , 0.8183823 , 0.8183823 , 2.04595574, 1.63676459,\n",
       "        2.04595574, 3.27352919, 2.45514689, 1.63676459, 1.63676459,\n",
       "        2.86433804, 1.22757345, 1.22757345, 2.45514689, 2.04595574,\n",
       "        2.86433804, 0.8183823 , 0.40919115, 4.09191149, 2.86433804,\n",
       "        3.27352919, 2.04595574, 2.04595574, 4.09191149, 2.04595574,\n",
       "        2.86433804, 3.27352919, 0.8183823 , 1.63676459, 1.22757345,\n",
       "        3.27352919, 3.27352919, 1.63676459, 4.09191149, 2.45514689,\n",
       "        4.09191149, 2.86433804, 1.63676459, 2.04595574, 2.45514689,\n",
       "        3.68272034, 2.86433804, 2.86433804, 3.27352919, 0.40919115,\n",
       "        1.22757345, 2.86433804, 3.68272034, 3.27352919, 3.27352919,\n",
       "        4.50110263, 2.45514689, 3.27352919, 3.27352919, 2.86433804,\n",
       "        1.63676459, 3.68272034, 4.09191149, 2.45514689, 2.86433804,\n",
       "        2.45514689, 0.8183823 , 1.63676459, 4.09191149, 2.86433804,\n",
       "        3.27352919, 4.09191149, 4.50110263, 2.04595574, 3.27352919,\n",
       "        4.09191149, 3.27352919, 2.04595574, 1.63676459, 2.45514689,\n",
       "        2.04595574, 3.27352919, 1.22757345, 3.27352919, 2.04595574,\n",
       "        2.45514689, 4.09191149, 4.09191149, 1.63676459, 3.27352919,\n",
       "        4.50110263, 4.09191149, 2.86433804, 4.91029378, 3.27352919,\n",
       "        2.86433804, 2.04595574, 1.63676459, 3.27352919, 2.45514689,\n",
       "        2.86433804, 3.27352919, 2.04595574, 1.63676459, 2.86433804,\n",
       "        4.50110263, 2.86433804, 2.45514689, 2.45514689, 1.63676459,\n",
       "        2.04595574, 2.04595574, 2.45514689, 2.86433804, 2.86433804,\n",
       "        1.22757345, 0.8183823 , 0.8183823 , 0.8183823 , 2.86433804]),\n",
       " array([0.11283852, 0.11577584, 0.11871315, 0.12165047, 0.12458778,\n",
       "        0.12752509, 0.13046241, 0.13339972, 0.13633704, 0.13927435,\n",
       "        0.14221167, 0.14514898, 0.1480863 , 0.15102361, 0.15396092,\n",
       "        0.15689824, 0.15983555, 0.16277287, 0.16571018, 0.1686475 ,\n",
       "        0.17158481, 0.17452213, 0.17745944, 0.18039675, 0.18333407,\n",
       "        0.18627138, 0.1892087 , 0.19214601, 0.19508333, 0.19802064,\n",
       "        0.20095796, 0.20389527, 0.20683258, 0.2097699 , 0.21270721,\n",
       "        0.21564453, 0.21858184, 0.22151916, 0.22445647, 0.22739379,\n",
       "        0.2303311 , 0.23326841, 0.23620573, 0.23914304, 0.24208036,\n",
       "        0.24501767, 0.24795499, 0.2508923 , 0.25382962, 0.25676693,\n",
       "        0.25970424, 0.26264156, 0.26557887, 0.26851619, 0.2714535 ,\n",
       "        0.27439082, 0.27732813, 0.28026545, 0.28320276, 0.28614007,\n",
       "        0.28907739, 0.2920147 , 0.29495202, 0.29788933, 0.30082665,\n",
       "        0.30376396, 0.30670128, 0.30963859, 0.3125759 , 0.31551322,\n",
       "        0.31845053, 0.32138785, 0.32432516, 0.32726248, 0.33019979,\n",
       "        0.33313711, 0.33607442, 0.33901173, 0.34194905, 0.34488636,\n",
       "        0.34782368, 0.35076099, 0.35369831, 0.35663562, 0.35957294,\n",
       "        0.36251025, 0.36544757, 0.36838488, 0.37132219, 0.37425951,\n",
       "        0.37719682, 0.38013414, 0.38307145, 0.38600877, 0.38894608,\n",
       "        0.3918834 , 0.39482071, 0.39775802, 0.40069534, 0.40363265,\n",
       "        0.40656997, 0.40950728, 0.4124446 , 0.41538191, 0.41831923,\n",
       "        0.42125654, 0.42419385, 0.42713117, 0.43006848, 0.4330058 ,\n",
       "        0.43594311, 0.43888043, 0.44181774, 0.44475506, 0.44769237,\n",
       "        0.45062968, 0.453567  , 0.45650431, 0.45944163, 0.46237894,\n",
       "        0.46531626, 0.46825357, 0.47119089, 0.4741282 , 0.47706551,\n",
       "        0.48000283, 0.48294014, 0.48587746, 0.48881477, 0.49175209,\n",
       "        0.4946894 , 0.49762672, 0.50056403, 0.50350134, 0.50643866,\n",
       "        0.50937597, 0.51231329, 0.5152506 , 0.51818792, 0.52112523,\n",
       "        0.52406255, 0.52699986, 0.52993717, 0.53287449, 0.5358118 ,\n",
       "        0.53874912, 0.54168643, 0.54462375, 0.54756106, 0.55049838,\n",
       "        0.55343569, 0.556373  , 0.55931032, 0.56224763, 0.56518495,\n",
       "        0.56812226, 0.57105958, 0.57399689, 0.57693421, 0.57987152,\n",
       "        0.58280883, 0.58574615, 0.58868346, 0.59162078, 0.59455809,\n",
       "        0.59749541, 0.60043272, 0.60337004, 0.60630735, 0.60924467,\n",
       "        0.61218198, 0.61511929, 0.61805661, 0.62099392, 0.62393124,\n",
       "        0.62686855, 0.62980587, 0.63274318, 0.6356805 , 0.63861781,\n",
       "        0.64155512, 0.64449244, 0.64742975, 0.65036707, 0.65330438,\n",
       "        0.6562417 , 0.65917901, 0.66211633, 0.66505364, 0.66799095,\n",
       "        0.67092827, 0.67386558, 0.6768029 , 0.67974021, 0.68267753,\n",
       "        0.68561484, 0.68855216, 0.69148947, 0.69442678, 0.6973641 ,\n",
       "        0.70030141]),\n",
       " <BarContainer object of 200 artists>)"
      ]
     },
     "execution_count": 11,
     "metadata": {},
     "output_type": "execute_result"
    },
    {
     "data": {
      "image/png": "[encoded data removed]",
      "text/plain": [
       "<Figure size 432x288 with 1 Axes>"
      ]
     },
     "metadata": {
      "needs_background": "light"
     },
     "output_type": "display_data"
    }
   ],
   "source": [
    "prod_accpeted = accepted*accepted_0*accepted_1\n",
    "prod_rejected = rejected*rejected_0*rejected_1\n",
    "n_bins = 200\n",
    "plt.hist(prod_accpeted, bins=n_bins,density=True,color = \"green\")\n",
    "plt.hist(prod_rejected,bins=n_bins,density=True,color = \"red\")"
   ]
  },
  {
   "cell_type": "code",
   "execution_count": 13,
   "metadata": {},
   "outputs": [
    {
     "data": {
      "text/plain": [
       "(array([0.03259347, 0.03259347, 0.        , 0.06518694, 0.22815429,\n",
       "        0.39112164, 0.42371511, 0.9778041 , 1.07558451, 1.59708004,\n",
       "        2.70525802, 3.35712743, 3.03119272, 4.23715112, 3.12897313,\n",
       "        2.86822537, 1.49929963, 0.94521063, 0.39112164, 0.13037388]),\n",
       " array([0.75167618, 0.78855237, 0.82542856, 0.86230475, 0.89918095,\n",
       "        0.93605714, 0.97293333, 1.00980952, 1.04668572, 1.08356191,\n",
       "        1.1204381 , 1.15731429, 1.19419048, 1.23106668, 1.26794287,\n",
       "        1.30481906, 1.34169525, 1.37857145, 1.41544764, 1.45232383,\n",
       "        1.48920002]),\n",
       " <BarContainer object of 20 artists>)"
      ]
     },
     "execution_count": 13,
     "metadata": {},
     "output_type": "execute_result"
    },
    {
     "data": {
      "image/png": "[encoded data removed]",
      "text/plain": [
       "<Figure size 432x288 with 1 Axes>"
      ]
     },
     "metadata": {
      "needs_background": "light"
     },
     "output_type": "display_data"
    }
   ],
   "source": [
    "prod_accpeted_02 = accepted*accepted_0\n",
    "prod_rejected_02 = rejected*rejected_0\n",
    "n_bins = 20\n",
    "plt.hist(prod_accpeted_02, bins=n_bins,density=True,color = \"green\")\n",
    "plt.hist(prod_rejected_02,bins=n_bins,density=True,color = \"red\")"
   ]
  },
  {
   "cell_type": "code",
   "execution_count": null,
   "metadata": {},
   "outputs": [],
   "source": []
  }
 ],
 "metadata": {
  "interpreter": {
   "hash": "8f4c03fd1f3ddabab52b38077ff61d6f59c40ca8b7063d5b7a68c21aa3f2e988"
  },
  "kernelspec": {
   "display_name": "Python 3.7.10 64-bit ('rohit': conda)",
   "name": "python3"
  },
  "language_info": {
   "codemirror_mode": {
    "name": "ipython",
    "version": 3
   },
   "file_extension": ".py",
   "mimetype": "text/x-python",
   "name": "python",
   "nbconvert_exporter": "python",
   "pygments_lexer": "ipython3",
   "version": "3.7.10"
  },
  "orig_nbformat": 4
 },
 "nbformat": 4,
 "nbformat_minor": 2
}
